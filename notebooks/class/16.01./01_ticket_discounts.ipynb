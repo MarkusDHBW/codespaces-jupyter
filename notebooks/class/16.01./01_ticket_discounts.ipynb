{
 "cells": [
  {
   "cell_type": "markdown",
   "metadata": {
    "vscode": {
     "languageId": "plaintext"
    }
   },
   "source": [
    "# Nested Conditions\n",
    "Write a program that calculates ticket prices for a theme park based on age and whether the visitor is a student or a senior.\n",
    "\n",
    "Students must be under the age of 30 to get the discount."
   ]
  },
  {
   "cell_type": "code",
   "execution_count": null,
   "metadata": {},
   "outputs": [
    {
     "ename": "",
     "evalue": "",
     "output_type": "error",
     "traceback": [
      "\u001b[1;31mRunning cells with '.venv (Python 3.8.10)' requires the ipykernel package.\n",
      "\u001b[1;31mRun the following command to install 'ipykernel' into the Python environment. \n",
      "\u001b[1;31mCommand: '/workspaces/codespaces-jupyter/.venv/bin/python -m pip install ipykernel -U --force-reinstall'"
     ]
    }
   ],
   "source": [
    "# set constants\n",
    "TICKET_PRICE = 10\n",
    "\n",
    "MAX_STUDENT_AGE = 30\n",
    "STUDENT_DISCOUNT = 0.5\n",
    "\n",
    "MIN_SENIOR_AGE = 65\n",
    "SENIOR_DISCOUNT = 0.6"
   ]
  },
  {
   "cell_type": "code",
   "execution_count": 2,
   "metadata": {},
   "outputs": [],
   "source": [
    "def getIntInput(prompt):\n",
    "    while True:\n",
    "        try:\n",
    "            return int(input(prompt))\n",
    "        except ValueError:\n",
    "            print(\"Invalid input. Please enter an integer value.\")"
   ]
  },
  {
   "cell_type": "code",
   "execution_count": 4,
   "metadata": {},
   "outputs": [
    {
     "name": "stdout",
     "output_type": "stream",
     "text": [
      "You are eligible for a senior discount of 60%.\n",
      "Your ticket price will be: $4\n"
     ]
    }
   ],
   "source": [
    "age = getIntInput(\"What is your age: \")\n",
    "\n",
    "if age <= MAX_STUDENT_AGE:\n",
    "    print(f\"You are eligible for a student discount of {int(STUDENT_DISCOUNT*100)}%.\")\n",
    "    discount = STUDENT_DISCOUNT\n",
    "elif age >= MIN_SENIOR_AGE:\n",
    "    print(f\"You are eligible for a senior discount of {int(SENIOR_DISCOUNT*100)}%.\")\n",
    "    discount = SENIOR_DISCOUNT\n",
    "else:\n",
    "    print(\"You are not eligible for any discount.\")\n",
    "    discount = 0\n",
    "\n",
    "\n",
    "price = int(TICKET_PRICE * (1-discount))\n",
    "\n",
    "print(f\"Your ticket price will be: ${price}\")"
   ]
  }
 ],
 "metadata": {
  "kernelspec": {
   "display_name": ".venv",
   "language": "python",
   "name": "python3"
  },
  "language_info": {
   "codemirror_mode": {
    "name": "ipython",
    "version": 3
   },
   "file_extension": ".py",
   "mimetype": "text/x-python",
   "name": "python",
   "nbconvert_exporter": "python",
   "pygments_lexer": "ipython3",
   "version": "3.10.12"
  }
 },
 "nbformat": 4,
 "nbformat_minor": 2
}
