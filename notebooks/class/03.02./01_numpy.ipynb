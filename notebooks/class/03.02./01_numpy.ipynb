{
 "cells": [
  {
   "cell_type": "markdown",
   "metadata": {},
   "source": []
  },
  {
   "cell_type": "code",
   "execution_count": 1,
   "metadata": {},
   "outputs": [],
   "source": [
    "import numpy as np"
   ]
  },
  {
   "cell_type": "code",
   "execution_count": 18,
   "metadata": {},
   "outputs": [
    {
     "name": "stdout",
     "output_type": "stream",
     "text": [
      "<class 'numpy.ndarray'>\n",
      "arr[1] = 2\n"
     ]
    },
    {
     "data": {
      "text/plain": [
       "array([1, 2, 3, 4, 5])"
      ]
     },
     "execution_count": 18,
     "metadata": {},
     "output_type": "execute_result"
    }
   ],
   "source": [
    "arr1 = np.array([1, 2, 3, 4, 5])\n",
    "\n",
    "print(type(arr1))\n",
    "print(f\"arr[1] = {arr1[1]}\") \n",
    "arr1"
   ]
  },
  {
   "cell_type": "code",
   "execution_count": 8,
   "metadata": {},
   "outputs": [
    {
     "name": "stdout",
     "output_type": "stream",
     "text": [
      "shape: (2, 2, 3)\n",
      "dimentionality: 3\n"
     ]
    },
    {
     "data": {
      "text/plain": [
       "array([[[1, 2, 3],\n",
       "        [4, 5, 6]],\n",
       "\n",
       "       [[1, 2, 3],\n",
       "        [4, 5, 6]]])"
      ]
     },
     "execution_count": 8,
     "metadata": {},
     "output_type": "execute_result"
    }
   ],
   "source": [
    "# multi dimensional array\n",
    "\n",
    "arr2 = np.array([[[1, 2, 3], [4, 5, 6]], [[1, 2, 3], [4, 5, 6]]])\n",
    "\n",
    "print(f\"shape: {arr2.shape}\")\n",
    "print(f\"dimentionality: {arr2.ndim}\")\n",
    "arr2"
   ]
  },
  {
   "cell_type": "code",
   "execution_count": 11,
   "metadata": {},
   "outputs": [
    {
     "name": "stdout",
     "output_type": "stream",
     "text": [
      "[[[[[1 2 3 4]]]]]\n",
      "number of dimensions : 5\n"
     ]
    }
   ],
   "source": [
    "# make array higher  dimentional\n",
    "arr3 = np.array([1, 2, 3, 4], ndmin=5)\n",
    "\n",
    "print(arr3)\n",
    "print('number of dimensions :', arr3.ndim) "
   ]
  },
  {
   "cell_type": "code",
   "execution_count": 17,
   "metadata": {},
   "outputs": [
    {
     "name": "stdout",
     "output_type": "stream",
     "text": [
      "last element on 2nd row:  10\n",
      "last element on 2nd row:  10\n"
     ]
    }
   ],
   "source": [
    "# acces higher dimentional array\n",
    "\n",
    "arr4 = np.array([[1,2,3,4,5], [6,7,8,9,10]])\n",
    "\n",
    "print('last element on 2nd row: ', arr4[1, -1])\n",
    "print('last element on 2nd row: ', arr4[1][-1])"
   ]
  },
  {
   "cell_type": "code",
   "execution_count": 23,
   "metadata": {},
   "outputs": [
    {
     "name": "stdout",
     "output_type": "stream",
     "text": [
      "[1 2 3 4 5]\n",
      "[2 3]\n",
      "[2 3 4 5]\n"
     ]
    }
   ],
   "source": [
    "# array slicing\n",
    "print(arr1)\n",
    "print(arr1[1:3])\n",
    "print(arr1[1:])"
   ]
  },
  {
   "cell_type": "code",
   "execution_count": 30,
   "metadata": {},
   "outputs": [
    {
     "name": "stdout",
     "output_type": "stream",
     "text": [
      "[ 0  1  2  3  4  5  6  7  8  9 10 11 12 13 14 15 16 17 18 19 20 21 22 23\n",
      " 24 25 26 27 28 29]\n",
      "[ 2  4  6  8 10 12 14 16 18 20 22 24 26 28]\n"
     ]
    }
   ],
   "source": [
    "# ranges\n",
    "arr5 = np.array(range(30))\n",
    "print(arr5)\n",
    "print(arr5[2::2])"
   ]
  },
  {
   "cell_type": "code",
   "execution_count": 32,
   "metadata": {},
   "outputs": [
    {
     "name": "stdout",
     "output_type": "stream",
     "text": [
      "<U6\n"
     ]
    },
    {
     "data": {
      "text/plain": [
       "array(['apple', 'banana', 'cherry'], dtype='<U6')"
      ]
     },
     "execution_count": 32,
     "metadata": {},
     "output_type": "execute_result"
    }
   ],
   "source": [
    "# other data types\n",
    "\n",
    "arr = np.array(['apple', 'banana', 'cherry'])\n",
    "\n",
    "print(arr.dtype)\n",
    "arr"
   ]
  },
  {
   "cell_type": "code",
   "execution_count": 41,
   "metadata": {},
   "outputs": [
    {
     "data": {
      "text/plain": [
       "array([1, 2, 3, 4], dtype=int32)"
      ]
     },
     "execution_count": 41,
     "metadata": {},
     "output_type": "execute_result"
    }
   ],
   "source": [
    "# types\n",
    "\n",
    "np.array([1, 2, 3, 4], dtype='i')  # ints"
   ]
  },
  {
   "cell_type": "code",
   "execution_count": 47,
   "metadata": {},
   "outputs": [
    {
     "name": "stdout",
     "output_type": "stream",
     "text": [
      "float64\n",
      "\n",
      "[1 2 3]\n",
      "int32\n",
      "\n",
      "[1 2 3]\n",
      "int64\n"
     ]
    }
   ],
   "source": [
    "# type casting\n",
    "arr6 = np.array([1.1, 2.1, 3.1])\n",
    "\n",
    "newarr = arr6.astype('i')\n",
    "newarr2 = arr6.astype(int)\n",
    "\n",
    "print(arr6.dtype)\n",
    "print()\n",
    "print(newarr)\n",
    "print(newarr.dtype)\n",
    "print()\n",
    "print(newarr2)\n",
    "print(newarr2.dtype)"
   ]
  },
  {
   "cell_type": "code",
   "execution_count": 50,
   "metadata": {},
   "outputs": [
    {
     "name": "stdout",
     "output_type": "stream",
     "text": [
      "[[19 22]\n",
      " [43 50]]\n",
      "(2, 2)\n"
     ]
    }
   ],
   "source": [
    "# matrix multiplication\n",
    "arr7 = np.array([[1, 2], [3, 4]])\n",
    "arr8 = np.array([[5, 6], [7, 8]])\n",
    "\n",
    "mult = np.matmul(arr7, arr8)\n",
    "print(mult)\n",
    "print(mult.shape)"
   ]
  }
 ],
 "metadata": {
  "kernelspec": {
   "display_name": ".venv",
   "language": "python",
   "name": "python3"
  },
  "language_info": {
   "codemirror_mode": {
    "name": "ipython",
    "version": 3
   },
   "file_extension": ".py",
   "mimetype": "text/x-python",
   "name": "python",
   "nbconvert_exporter": "python",
   "pygments_lexer": "ipython3",
   "version": "3.12.1"
  }
 },
 "nbformat": 4,
 "nbformat_minor": 2
}
